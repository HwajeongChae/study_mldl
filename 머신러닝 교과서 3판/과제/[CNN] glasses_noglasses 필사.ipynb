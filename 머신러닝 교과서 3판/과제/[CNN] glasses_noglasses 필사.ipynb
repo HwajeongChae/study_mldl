{
 "cells": [
  {
   "cell_type": "markdown",
   "metadata": {},
   "source": [
    "# Kaggle CNN 문제 필사\n",
    "\n",
    "##### reference: https://www.kaggle.com/code/adnanzaidi/glasses-noglasses/notebook\n",
    "\n",
    "에포크 실행과정이 너무 오래 걸려 생략하였습니다 ㅠㅠ"
   ]
  },
  {
   "cell_type": "code",
   "execution_count": 8,
   "metadata": {
    "_cell_guid": "b1076dfc-b9ad-4769-8c92-a6c4dae69d19",
    "_uuid": "8f2839f25d086af736a60e9eeb907d3b93b6e0e5",
    "collapsed": true,
    "execution": {
     "iopub.execute_input": "2022-08-27T20:59:27.996635Z",
     "iopub.status.busy": "2022-08-27T20:59:27.995467Z",
     "iopub.status.idle": "2022-08-27T20:59:28.076289Z",
     "shell.execute_reply": "2022-08-27T20:59:28.075384Z",
     "shell.execute_reply.started": "2022-08-27T20:59:27.996523Z"
    },
    "id": "exLbDhBWahtC"
   },
   "outputs": [
    {
     "name": "stdout",
     "output_type": "stream",
     "text": [
      "input\\glasses-noglasses\\.DS_Store\n",
      "input\\glasses-noglasses\\test\\row-1-column-1.jpg\n",
      "input\\glasses-noglasses\\test\\row-1-column-10.jpg\n",
      "input\\glasses-noglasses\\test\\row-1-column-2.jpg\n",
      "input\\glasses-noglasses\\test\\row-1-column-3.jpg\n",
      "input\\glasses-noglasses\\test\\row-1-column-4.jpg\n",
      "input\\glasses-noglasses\\test\\row-1-column-5.jpg\n",
      "input\\glasses-noglasses\\test\\row-1-column-6.jpg\n",
      "input\\glasses-noglasses\\test\\row-1-column-7.jpg\n",
      "input\\glasses-noglasses\\test\\row-1-column-8.jpg\n",
      "input\\glasses-noglasses\\test\\row-1-column-9.jpg\n",
      "input\\glasses-noglasses\\test\\row-7-column-1.jpg\n",
      "input\\glasses-noglasses\\test\\row-7-column-10.jpg\n",
      "input\\glasses-noglasses\\test\\row-7-column-2.jpg\n",
      "input\\glasses-noglasses\\test\\row-7-column-3.jpg\n",
      "input\\glasses-noglasses\\test\\row-7-column-4.jpg\n",
      "input\\glasses-noglasses\\test\\row-7-column-5.jpg\n",
      "input\\glasses-noglasses\\test\\row-7-column-6.jpg\n",
      "input\\glasses-noglasses\\test\\row-7-column-7.jpg\n",
      "input\\glasses-noglasses\\test\\row-7-column-8.jpg\n",
      "input\\glasses-noglasses\\test\\row-7-column-9.jpg\n",
      "input\\glasses-noglasses\\train\\.DS_Store\n",
      "input\\glasses-noglasses\\train\\glasses\\row-1-column-1.jpg\n",
      "input\\glasses-noglasses\\train\\glasses\\row-1-column-10.jpg\n",
      "input\\glasses-noglasses\\train\\glasses\\row-1-column-11.jpg\n",
      "input\\glasses-noglasses\\train\\glasses\\row-1-column-12.jpg\n",
      "input\\glasses-noglasses\\train\\glasses\\row-1-column-2.jpg\n",
      "input\\glasses-noglasses\\train\\glasses\\row-1-column-3.jpg\n",
      "input\\glasses-noglasses\\train\\glasses\\row-1-column-4.jpg\n",
      "input\\glasses-noglasses\\train\\glasses\\row-1-column-5.jpg\n",
      "input\\glasses-noglasses\\train\\glasses\\row-1-column-6.jpg\n",
      "input\\glasses-noglasses\\train\\glasses\\row-1-column-7.jpg\n",
      "input\\glasses-noglasses\\train\\glasses\\row-1-column-8.jpg\n",
      "input\\glasses-noglasses\\train\\glasses\\row-1-column-9.jpg\n",
      "input\\glasses-noglasses\\train\\glasses\\row-2-column-1.jpg\n",
      "input\\glasses-noglasses\\train\\glasses\\row-2-column-10.jpg\n",
      "input\\glasses-noglasses\\train\\glasses\\row-2-column-11.jpg\n",
      "input\\glasses-noglasses\\train\\glasses\\row-2-column-12.jpg\n",
      "input\\glasses-noglasses\\train\\glasses\\row-2-column-2.jpg\n",
      "input\\glasses-noglasses\\train\\glasses\\row-2-column-3.jpg\n",
      "input\\glasses-noglasses\\train\\glasses\\row-2-column-4.jpg\n",
      "input\\glasses-noglasses\\train\\glasses\\row-2-column-5.jpg\n",
      "input\\glasses-noglasses\\train\\glasses\\row-2-column-6.jpg\n",
      "input\\glasses-noglasses\\train\\glasses\\row-2-column-7.jpg\n",
      "input\\glasses-noglasses\\train\\glasses\\row-2-column-8.jpg\n",
      "input\\glasses-noglasses\\train\\glasses\\row-2-column-9.jpg\n",
      "input\\glasses-noglasses\\train\\glasses\\row-3-column-1.jpg\n",
      "input\\glasses-noglasses\\train\\glasses\\row-3-column-10.jpg\n",
      "input\\glasses-noglasses\\train\\glasses\\row-3-column-11.jpg\n",
      "input\\glasses-noglasses\\train\\glasses\\row-3-column-12.jpg\n",
      "input\\glasses-noglasses\\train\\glasses\\row-3-column-2.jpg\n",
      "input\\glasses-noglasses\\train\\glasses\\row-3-column-3.jpg\n",
      "input\\glasses-noglasses\\train\\glasses\\row-3-column-4.jpg\n",
      "input\\glasses-noglasses\\train\\glasses\\row-3-column-5.jpg\n",
      "input\\glasses-noglasses\\train\\glasses\\row-3-column-6.jpg\n",
      "input\\glasses-noglasses\\train\\glasses\\row-3-column-7.jpg\n",
      "input\\glasses-noglasses\\train\\glasses\\row-3-column-8.jpg\n",
      "input\\glasses-noglasses\\train\\glasses\\row-3-column-9.jpg\n",
      "input\\glasses-noglasses\\train\\glasses\\row-4-column-1.jpg\n",
      "input\\glasses-noglasses\\train\\glasses\\row-4-column-10.jpg\n",
      "input\\glasses-noglasses\\train\\glasses\\row-4-column-11.jpg\n",
      "input\\glasses-noglasses\\train\\glasses\\row-4-column-12.jpg\n",
      "input\\glasses-noglasses\\train\\glasses\\row-4-column-2.jpg\n",
      "input\\glasses-noglasses\\train\\glasses\\row-4-column-3.jpg\n",
      "input\\glasses-noglasses\\train\\glasses\\row-4-column-4.jpg\n",
      "input\\glasses-noglasses\\train\\glasses\\row-4-column-5.jpg\n",
      "input\\glasses-noglasses\\train\\glasses\\row-4-column-6.jpg\n",
      "input\\glasses-noglasses\\train\\glasses\\row-4-column-7.jpg\n",
      "input\\glasses-noglasses\\train\\glasses\\row-4-column-8.jpg\n",
      "input\\glasses-noglasses\\train\\glasses\\row-4-column-9.jpg\n",
      "input\\glasses-noglasses\\train\\glasses\\row-5-column-1.jpg\n",
      "input\\glasses-noglasses\\train\\glasses\\row-5-column-2.jpg\n",
      "input\\glasses-noglasses\\train\\glasses\\row-5-column-3.jpg\n",
      "input\\glasses-noglasses\\train\\glasses\\row-5-column-4.jpg\n",
      "input\\glasses-noglasses\\train\\noglasses\\row-10-column-1.jpg\n",
      "input\\glasses-noglasses\\train\\noglasses\\row-10-column-10.jpg\n",
      "input\\glasses-noglasses\\train\\noglasses\\row-10-column-11.jpg\n",
      "input\\glasses-noglasses\\train\\noglasses\\row-10-column-12.jpg\n",
      "input\\glasses-noglasses\\train\\noglasses\\row-10-column-2.jpg\n",
      "input\\glasses-noglasses\\train\\noglasses\\row-10-column-3.jpg\n",
      "input\\glasses-noglasses\\train\\noglasses\\row-10-column-4.jpg\n",
      "input\\glasses-noglasses\\train\\noglasses\\row-10-column-5.jpg\n",
      "input\\glasses-noglasses\\train\\noglasses\\row-10-column-6.jpg\n",
      "input\\glasses-noglasses\\train\\noglasses\\row-10-column-7.jpg\n",
      "input\\glasses-noglasses\\train\\noglasses\\row-10-column-8.jpg\n",
      "input\\glasses-noglasses\\train\\noglasses\\row-10-column-9.jpg\n",
      "input\\glasses-noglasses\\train\\noglasses\\row-11-column-1.jpg\n",
      "input\\glasses-noglasses\\train\\noglasses\\row-11-column-2.jpg\n",
      "input\\glasses-noglasses\\train\\noglasses\\row-11-column-3.jpg\n",
      "input\\glasses-noglasses\\train\\noglasses\\row-11-column-4.jpg\n",
      "input\\glasses-noglasses\\train\\noglasses\\row-7-column-1.jpg\n",
      "input\\glasses-noglasses\\train\\noglasses\\row-7-column-10.jpg\n",
      "input\\glasses-noglasses\\train\\noglasses\\row-7-column-11.jpg\n",
      "input\\glasses-noglasses\\train\\noglasses\\row-7-column-12.jpg\n",
      "input\\glasses-noglasses\\train\\noglasses\\row-7-column-2.jpg\n",
      "input\\glasses-noglasses\\train\\noglasses\\row-7-column-3.jpg\n",
      "input\\glasses-noglasses\\train\\noglasses\\row-7-column-4.jpg\n",
      "input\\glasses-noglasses\\train\\noglasses\\row-7-column-5.jpg\n",
      "input\\glasses-noglasses\\train\\noglasses\\row-7-column-6.jpg\n",
      "input\\glasses-noglasses\\train\\noglasses\\row-7-column-7.jpg\n",
      "input\\glasses-noglasses\\train\\noglasses\\row-7-column-8.jpg\n",
      "input\\glasses-noglasses\\train\\noglasses\\row-7-column-9.jpg\n",
      "input\\glasses-noglasses\\train\\noglasses\\row-8-column-1.jpg\n",
      "input\\glasses-noglasses\\train\\noglasses\\row-8-column-10.jpg\n",
      "input\\glasses-noglasses\\train\\noglasses\\row-8-column-11.jpg\n",
      "input\\glasses-noglasses\\train\\noglasses\\row-8-column-12.jpg\n",
      "input\\glasses-noglasses\\train\\noglasses\\row-8-column-2.jpg\n",
      "input\\glasses-noglasses\\train\\noglasses\\row-8-column-3.jpg\n",
      "input\\glasses-noglasses\\train\\noglasses\\row-8-column-4.jpg\n",
      "input\\glasses-noglasses\\train\\noglasses\\row-8-column-5.jpg\n",
      "input\\glasses-noglasses\\train\\noglasses\\row-8-column-6.jpg\n",
      "input\\glasses-noglasses\\train\\noglasses\\row-8-column-7.jpg\n",
      "input\\glasses-noglasses\\train\\noglasses\\row-8-column-8.jpg\n",
      "input\\glasses-noglasses\\train\\noglasses\\row-8-column-9.jpg\n",
      "input\\glasses-noglasses\\train\\noglasses\\row-9-column-1.jpg\n",
      "input\\glasses-noglasses\\train\\noglasses\\row-9-column-10.jpg\n",
      "input\\glasses-noglasses\\train\\noglasses\\row-9-column-11.jpg\n",
      "input\\glasses-noglasses\\train\\noglasses\\row-9-column-12.jpg\n",
      "input\\glasses-noglasses\\train\\noglasses\\row-9-column-2.jpg\n",
      "input\\glasses-noglasses\\train\\noglasses\\row-9-column-3.jpg\n",
      "input\\glasses-noglasses\\train\\noglasses\\row-9-column-4.jpg\n",
      "input\\glasses-noglasses\\train\\noglasses\\row-9-column-5.jpg\n",
      "input\\glasses-noglasses\\train\\noglasses\\row-9-column-6.jpg\n",
      "input\\glasses-noglasses\\train\\noglasses\\row-9-column-7.jpg\n",
      "input\\glasses-noglasses\\train\\noglasses\\row-9-column-8.jpg\n",
      "input\\glasses-noglasses\\train\\noglasses\\row-9-column-9.jpg\n",
      "input\\glasses-noglasses\\validate\\glasses\\row-5-column-10.jpg\n",
      "input\\glasses-noglasses\\validate\\glasses\\row-5-column-11.jpg\n",
      "input\\glasses-noglasses\\validate\\glasses\\row-5-column-12.jpg\n",
      "input\\glasses-noglasses\\validate\\glasses\\row-5-column-5.jpg\n",
      "input\\glasses-noglasses\\validate\\glasses\\row-5-column-6.jpg\n",
      "input\\glasses-noglasses\\validate\\glasses\\row-5-column-7.jpg\n",
      "input\\glasses-noglasses\\validate\\glasses\\row-5-column-8.jpg\n",
      "input\\glasses-noglasses\\validate\\glasses\\row-5-column-9.jpg\n",
      "input\\glasses-noglasses\\validate\\glasses\\row-6-column-1.jpg\n",
      "input\\glasses-noglasses\\validate\\glasses\\row-6-column-10.jpg\n",
      "input\\glasses-noglasses\\validate\\glasses\\row-6-column-11.jpg\n",
      "input\\glasses-noglasses\\validate\\glasses\\row-6-column-12.jpg\n",
      "input\\glasses-noglasses\\validate\\glasses\\row-6-column-2.jpg\n",
      "input\\glasses-noglasses\\validate\\glasses\\row-6-column-3.jpg\n",
      "input\\glasses-noglasses\\validate\\glasses\\row-6-column-4.jpg\n",
      "input\\glasses-noglasses\\validate\\glasses\\row-6-column-5.jpg\n",
      "input\\glasses-noglasses\\validate\\glasses\\row-6-column-6.jpg\n",
      "input\\glasses-noglasses\\validate\\glasses\\row-6-column-7.jpg\n",
      "input\\glasses-noglasses\\validate\\glasses\\row-6-column-8.jpg\n",
      "input\\glasses-noglasses\\validate\\glasses\\row-6-column-9.jpg\n",
      "input\\glasses-noglasses\\validate\\noglasses\\row-11-column-10.jpg\n",
      "input\\glasses-noglasses\\validate\\noglasses\\row-11-column-11.jpg\n",
      "input\\glasses-noglasses\\validate\\noglasses\\row-11-column-12.jpg\n",
      "input\\glasses-noglasses\\validate\\noglasses\\row-11-column-5.jpg\n",
      "input\\glasses-noglasses\\validate\\noglasses\\row-11-column-6.jpg\n",
      "input\\glasses-noglasses\\validate\\noglasses\\row-11-column-7.jpg\n",
      "input\\glasses-noglasses\\validate\\noglasses\\row-11-column-8.jpg\n",
      "input\\glasses-noglasses\\validate\\noglasses\\row-11-column-9.jpg\n",
      "input\\glasses-noglasses\\validate\\noglasses\\row-12-column-1.jpg\n",
      "input\\glasses-noglasses\\validate\\noglasses\\row-12-column-10.jpg\n",
      "input\\glasses-noglasses\\validate\\noglasses\\row-12-column-11.jpg\n",
      "input\\glasses-noglasses\\validate\\noglasses\\row-12-column-12.jpg\n",
      "input\\glasses-noglasses\\validate\\noglasses\\row-12-column-2.jpg\n",
      "input\\glasses-noglasses\\validate\\noglasses\\row-12-column-3.jpg\n",
      "input\\glasses-noglasses\\validate\\noglasses\\row-12-column-4.jpg\n",
      "input\\glasses-noglasses\\validate\\noglasses\\row-12-column-5.jpg\n",
      "input\\glasses-noglasses\\validate\\noglasses\\row-12-column-6.jpg\n",
      "input\\glasses-noglasses\\validate\\noglasses\\row-12-column-7.jpg\n",
      "input\\glasses-noglasses\\validate\\noglasses\\row-12-column-8.jpg\n",
      "input\\glasses-noglasses\\validate\\noglasses\\row-12-column-9.jpg\n"
     ]
    }
   ],
   "source": [
    "import numpy as np\n",
    "import pandas as pd\n",
    "import os\n",
    "for dirname, _, filenames in os.walk('input'):\n",
    "    for filename in filenames:\n",
    "        print(os.path.join(dirname, filename))"
   ]
  },
  {
   "cell_type": "code",
   "execution_count": 9,
   "metadata": {
    "execution": {
     "iopub.execute_input": "2022-08-27T20:59:33.642938Z",
     "iopub.status.busy": "2022-08-27T20:59:33.642516Z",
     "iopub.status.idle": "2022-08-27T20:59:38.769246Z",
     "shell.execute_reply": "2022-08-27T20:59:38.768224Z",
     "shell.execute_reply.started": "2022-08-27T20:59:33.642905Z"
    },
    "id": "fdkg9xmkahtH"
   },
   "outputs": [],
   "source": [
    "import keras,os\n",
    "from keras.models import Sequential\n",
    "from keras.layers import Dense, Conv2D, MaxPool2D , Flatten\n",
    "from keras_preprocessing.image import ImageDataGenerator\n",
    "import numpy as np"
   ]
  },
  {
   "cell_type": "code",
   "execution_count": 12,
   "metadata": {
    "colab": {
     "base_uri": "https://localhost:8080/",
     "height": 444
    },
    "execution": {
     "iopub.execute_input": "2022-08-27T21:23:26.56638Z",
     "iopub.status.busy": "2022-08-27T21:23:26.565742Z",
     "iopub.status.idle": "2022-08-27T21:23:26.787031Z",
     "shell.execute_reply": "2022-08-27T21:23:26.785848Z",
     "shell.execute_reply.started": "2022-08-27T21:23:26.566345Z"
    },
    "id": "rol0lWfaahtH",
    "outputId": "9c544289-12bb-45df-8858-7eff2469b02b"
   },
   "outputs": [
    {
     "name": "stdout",
     "output_type": "stream",
     "text": [
      "Found 104 images belonging to 2 classes.\n",
      "Found 40 images belonging to 2 classes.\n"
     ]
    }
   ],
   "source": [
    "trdata = ImageDataGenerator()\n",
    "traindata = trdata.flow_from_directory(directory=\"input/glasses-noglasses/train\",target_size=(224,224))\n",
    "tsdata = ImageDataGenerator()\n",
    "testdata = tsdata.flow_from_directory(directory=\"input/glasses-noglasses/validate\", target_size=(224,224))"
   ]
  },
  {
   "cell_type": "code",
   "execution_count": 13,
   "metadata": {
    "execution": {
     "iopub.execute_input": "2022-08-27T21:23:30.482621Z",
     "iopub.status.busy": "2022-08-27T21:23:30.482036Z",
     "iopub.status.idle": "2022-08-27T21:23:30.66127Z",
     "shell.execute_reply": "2022-08-27T21:23:30.660305Z",
     "shell.execute_reply.started": "2022-08-27T21:23:30.482575Z"
    },
    "id": "8R1cmXZmahtI"
   },
   "outputs": [],
   "source": [
    "model = Sequential()\n",
    "model.add(Conv2D(input_shape=(224,224,3),filters=64,kernel_size=(3,3),padding=\"same\", activation=\"relu\"))\n",
    "model.add(Conv2D(filters=64,kernel_size=(3,3),padding=\"same\", activation=\"relu\"))\n",
    "model.add(MaxPool2D(pool_size=(2,2),strides=(2,2)))\n",
    "model.add(Conv2D(filters=128, kernel_size=(3,3), padding=\"same\", activation=\"relu\"))\n",
    "model.add(Conv2D(filters=128, kernel_size=(3,3), padding=\"same\", activation=\"relu\"))\n",
    "model.add(MaxPool2D(pool_size=(2,2),strides=(2,2)))\n",
    "model.add(Conv2D(filters=256, kernel_size=(3,3), padding=\"same\", activation=\"relu\"))\n",
    "model.add(Conv2D(filters=256, kernel_size=(3,3), padding=\"same\", activation=\"relu\"))\n",
    "model.add(Conv2D(filters=256, kernel_size=(3,3), padding=\"same\", activation=\"relu\"))\n",
    "model.add(MaxPool2D(pool_size=(2,2),strides=(2,2)))\n",
    "model.add(Conv2D(filters=512, kernel_size=(3,3), padding=\"same\", activation=\"relu\"))\n",
    "model.add(Conv2D(filters=512, kernel_size=(3,3), padding=\"same\", activation=\"relu\"))\n",
    "model.add(Conv2D(filters=512, kernel_size=(3,3), padding=\"same\", activation=\"relu\"))\n",
    "model.add(MaxPool2D(pool_size=(2,2),strides=(2,2)))\n",
    "model.add(Conv2D(filters=512, kernel_size=(3,3), padding=\"same\", activation=\"relu\"))\n",
    "model.add(Conv2D(filters=512, kernel_size=(3,3), padding=\"same\", activation=\"relu\"))\n",
    "model.add(Conv2D(filters=512, kernel_size=(3,3), padding=\"same\", activation=\"relu\"))\n",
    "model.add(MaxPool2D(pool_size=(2,2),strides=(2,2)))"
   ]
  },
  {
   "cell_type": "code",
   "execution_count": 14,
   "metadata": {
    "execution": {
     "iopub.execute_input": "2022-08-27T21:23:32.959351Z",
     "iopub.status.busy": "2022-08-27T21:23:32.958997Z",
     "iopub.status.idle": "2022-08-27T21:23:32.995917Z",
     "shell.execute_reply": "2022-08-27T21:23:32.99497Z",
     "shell.execute_reply.started": "2022-08-27T21:23:32.959322Z"
    },
    "id": "-xX5K5OGahtJ"
   },
   "outputs": [],
   "source": [
    "model.add(Flatten())\n",
    "model.add(Dense(units=4096,activation=\"relu\"))\n",
    "model.add(Dense(units=4096,activation=\"relu\"))\n",
    "model.add(Dense(units=2, activation=\"softmax\"))"
   ]
  },
  {
   "cell_type": "code",
   "execution_count": 15,
   "metadata": {
    "execution": {
     "iopub.execute_input": "2022-08-27T21:34:27.746476Z",
     "iopub.status.busy": "2022-08-27T21:34:27.745508Z",
     "iopub.status.idle": "2022-08-27T21:34:27.759647Z",
     "shell.execute_reply": "2022-08-27T21:34:27.758681Z",
     "shell.execute_reply.started": "2022-08-27T21:34:27.746411Z"
    },
    "id": "mDBn7SATahtK"
   },
   "outputs": [],
   "source": [
    "#from keras.optimizers import Adam\n",
    "#opt = Adam(lr=0.001)\n",
    "model.compile(optimizer='adam', loss=keras.losses.categorical_crossentropy, metrics=['accuracy']) "
   ]
  },
  {
   "cell_type": "code",
   "execution_count": 16,
   "metadata": {
    "collapsed": true,
    "execution": {
     "iopub.execute_input": "2022-08-27T21:23:42.280169Z",
     "iopub.status.busy": "2022-08-27T21:23:42.279808Z",
     "iopub.status.idle": "2022-08-27T21:23:42.288615Z",
     "shell.execute_reply": "2022-08-27T21:23:42.287303Z",
     "shell.execute_reply.started": "2022-08-27T21:23:42.280138Z"
    },
    "id": "be3VUNzzahtL"
   },
   "outputs": [
    {
     "name": "stdout",
     "output_type": "stream",
     "text": [
      "Model: \"sequential\"\n",
      "_________________________________________________________________\n",
      " Layer (type)                Output Shape              Param #   \n",
      "=================================================================\n",
      " conv2d (Conv2D)             (None, 224, 224, 64)      1792      \n",
      "                                                                 \n",
      " conv2d_1 (Conv2D)           (None, 224, 224, 64)      36928     \n",
      "                                                                 \n",
      " max_pooling2d (MaxPooling2D  (None, 112, 112, 64)     0         \n",
      " )                                                               \n",
      "                                                                 \n",
      " conv2d_2 (Conv2D)           (None, 112, 112, 128)     73856     \n",
      "                                                                 \n",
      " conv2d_3 (Conv2D)           (None, 112, 112, 128)     147584    \n",
      "                                                                 \n",
      " max_pooling2d_1 (MaxPooling  (None, 56, 56, 128)      0         \n",
      " 2D)                                                             \n",
      "                                                                 \n",
      " conv2d_4 (Conv2D)           (None, 56, 56, 256)       295168    \n",
      "                                                                 \n",
      " conv2d_5 (Conv2D)           (None, 56, 56, 256)       590080    \n",
      "                                                                 \n",
      " conv2d_6 (Conv2D)           (None, 56, 56, 256)       590080    \n",
      "                                                                 \n",
      " max_pooling2d_2 (MaxPooling  (None, 28, 28, 256)      0         \n",
      " 2D)                                                             \n",
      "                                                                 \n",
      " conv2d_7 (Conv2D)           (None, 28, 28, 512)       1180160   \n",
      "                                                                 \n",
      " conv2d_8 (Conv2D)           (None, 28, 28, 512)       2359808   \n",
      "                                                                 \n",
      " conv2d_9 (Conv2D)           (None, 28, 28, 512)       2359808   \n",
      "                                                                 \n",
      " max_pooling2d_3 (MaxPooling  (None, 14, 14, 512)      0         \n",
      " 2D)                                                             \n",
      "                                                                 \n",
      " conv2d_10 (Conv2D)          (None, 14, 14, 512)       2359808   \n",
      "                                                                 \n",
      " conv2d_11 (Conv2D)          (None, 14, 14, 512)       2359808   \n",
      "                                                                 \n",
      " conv2d_12 (Conv2D)          (None, 14, 14, 512)       2359808   \n",
      "                                                                 \n",
      " max_pooling2d_4 (MaxPooling  (None, 7, 7, 512)        0         \n",
      " 2D)                                                             \n",
      "                                                                 \n",
      " flatten (Flatten)           (None, 25088)             0         \n",
      "                                                                 \n",
      " dense (Dense)               (None, 4096)              102764544 \n",
      "                                                                 \n",
      " dense_1 (Dense)             (None, 4096)              16781312  \n",
      "                                                                 \n",
      " dense_2 (Dense)             (None, 2)                 8194      \n",
      "                                                                 \n",
      "=================================================================\n",
      "Total params: 134,268,738\n",
      "Trainable params: 134,268,738\n",
      "Non-trainable params: 0\n",
      "_________________________________________________________________\n"
     ]
    }
   ],
   "source": [
    "model.summary()"
   ]
  },
  {
   "cell_type": "code",
   "execution_count": null,
   "metadata": {
    "collapsed": true,
    "execution": {
     "iopub.execute_input": "2022-08-27T21:34:31.357584Z",
     "iopub.status.busy": "2022-08-27T21:34:31.35636Z",
     "iopub.status.idle": "2022-08-27T21:34:58.842048Z",
     "shell.execute_reply": "2022-08-27T21:34:58.841044Z",
     "shell.execute_reply.started": "2022-08-27T21:34:31.357534Z"
    },
    "id": "i1l3f_3TahtM"
   },
   "outputs": [
    {
     "name": "stdout",
     "output_type": "stream",
     "text": [
      "WARNING:tensorflow:`period` argument is deprecated. Please use `save_freq` to specify the frequency in number of batches seen.\n"
     ]
    },
    {
     "name": "stderr",
     "output_type": "stream",
     "text": [
      "C:\\Users\\molly\\AppData\\Local\\Temp\\ipykernel_10684\\84685937.py:4: UserWarning: `Model.fit_generator` is deprecated and will be removed in a future version. Please use `Model.fit`, which supports generators.\n",
      "  hist = model.fit_generator(steps_per_epoch=1,generator=traindata, validation_data= testdata, validation_steps=1,epochs=50,callbacks=[checkpoint,early])\n"
     ]
    },
    {
     "name": "stdout",
     "output_type": "stream",
     "text": [
      "Epoch 1/50\n",
      "1/1 [==============================] - ETA: 0s - loss: 0.7187 - accuracy: 0.5000WARNING:tensorflow:Can save best model only with val_acc available, skipping.\n",
      "WARNING:tensorflow:Early stopping conditioned on metric `val_acc` which is not available. Available metrics are: loss,accuracy,val_loss,val_accuracy\n",
      "1/1 [==============================] - 75s 75s/step - loss: 0.7187 - accuracy: 0.5000 - val_loss: 5355.7236 - val_accuracy: 0.5000\n",
      "Epoch 2/50\n",
      "1/1 [==============================] - ETA: 0s - loss: 5646.3413 - accuracy: 0.4688WARNING:tensorflow:Can save best model only with val_acc available, skipping.\n",
      "WARNING:tensorflow:Early stopping conditioned on metric `val_acc` which is not available. Available metrics are: loss,accuracy,val_loss,val_accuracy\n",
      "1/1 [==============================] - 56s 56s/step - loss: 5646.3413 - accuracy: 0.4688 - val_loss: 4.5743 - val_accuracy: 0.5312\n",
      "Epoch 3/50\n",
      "1/1 [==============================] - ETA: 0s - loss: 4.8873 - accuracy: 0.5000WARNING:tensorflow:Can save best model only with val_acc available, skipping.\n",
      "WARNING:tensorflow:Early stopping conditioned on metric `val_acc` which is not available. Available metrics are: loss,accuracy,val_loss,val_accuracy\n",
      "1/1 [==============================] - 21s 21s/step - loss: 4.8873 - accuracy: 0.5000 - val_loss: 0.7674 - val_accuracy: 0.5625\n",
      "Epoch 4/50\n",
      "1/1 [==============================] - ETA: 0s - loss: 0.8666 - accuracy: 0.4688WARNING:tensorflow:Can save best model only with val_acc available, skipping.\n",
      "WARNING:tensorflow:Early stopping conditioned on metric `val_acc` which is not available. Available metrics are: loss,accuracy,val_loss,val_accuracy\n",
      "1/1 [==============================] - 73s 73s/step - loss: 0.8666 - accuracy: 0.4688 - val_loss: 0.6966 - val_accuracy: 0.5000\n",
      "Epoch 5/50\n",
      "1/1 [==============================] - ETA: 0s - loss: 0.7173 - accuracy: 0.3750WARNING:tensorflow:Can save best model only with val_acc available, skipping.\n",
      "WARNING:tensorflow:Early stopping conditioned on metric `val_acc` which is not available. Available metrics are: loss,accuracy,val_loss,val_accuracy\n",
      "1/1 [==============================] - 24s 24s/step - loss: 0.7173 - accuracy: 0.3750 - val_loss: 0.6922 - val_accuracy: 0.5312\n",
      "Epoch 6/50\n",
      "1/1 [==============================] - ETA: 0s - loss: 0.6929 - accuracy: 0.5000WARNING:tensorflow:Can save best model only with val_acc available, skipping.\n",
      "WARNING:tensorflow:Early stopping conditioned on metric `val_acc` which is not available. Available metrics are: loss,accuracy,val_loss,val_accuracy\n",
      "1/1 [==============================] - 63s 63s/step - loss: 0.6929 - accuracy: 0.5000 - val_loss: 0.6975 - val_accuracy: 0.5000\n",
      "Epoch 7/50\n"
     ]
    }
   ],
   "source": [
    "from keras.callbacks import ModelCheckpoint, EarlyStopping\n",
    "checkpoint = ModelCheckpoint(\"vgg16_1.h5\", monitor='val_acc', verbose=1, save_best_only=True, save_weights_only=False, mode='auto', period=1)\n",
    "early = EarlyStopping(monitor='val_acc', min_delta=0, patience=20, verbose=1, mode='auto')\n",
    "hist = model.fit_generator(steps_per_epoch=1,generator=traindata, validation_data= testdata, validation_steps=1,epochs=50,callbacks=[checkpoint,early])"
   ]
  },
  {
   "cell_type": "code",
   "execution_count": null,
   "metadata": {
    "execution": {
     "iopub.execute_input": "2022-08-27T21:33:53.803618Z",
     "iopub.status.busy": "2022-08-27T21:33:53.803191Z",
     "iopub.status.idle": "2022-08-27T21:33:54.028716Z",
     "shell.execute_reply": "2022-08-27T21:33:54.027488Z",
     "shell.execute_reply.started": "2022-08-27T21:33:53.803571Z"
    },
    "id": "zGyl0bIoahtM"
   },
   "outputs": [],
   "source": [
    "import matplotlib.pyplot as plt\n",
    "plt.plot(hist.history[\"accuracy\"])\n",
    "plt.plot(hist.history['val_accuracy'])\n",
    "#plt.plot(hist.history['loss'])\n",
    "#plt.plot(hist.history['val_loss'])\n",
    "plt.title(\"model accuracy\")\n",
    "plt.ylabel(\"Accuracy\")\n",
    "plt.xlabel(\"Epoch\")\n",
    "plt.legend([\"Accuracy\",\"Validation Accuracy\",\"loss\",\"Validation Loss\"])\n",
    "plt.show()"
   ]
  },
  {
   "cell_type": "code",
   "execution_count": null,
   "metadata": {
    "execution": {
     "iopub.execute_input": "2022-08-27T21:27:52.537262Z",
     "iopub.status.busy": "2022-08-27T21:27:52.536854Z",
     "iopub.status.idle": "2022-08-27T21:27:57.18661Z",
     "shell.execute_reply": "2022-08-27T21:27:57.185247Z",
     "shell.execute_reply.started": "2022-08-27T21:27:52.537231Z"
    },
    "id": "jNiVs-tDahtN"
   },
   "outputs": [],
   "source": [
    " model.save(\"vgg16_1.h5\")"
   ]
  },
  {
   "cell_type": "code",
   "execution_count": null,
   "metadata": {
    "execution": {
     "iopub.execute_input": "2022-08-27T21:27:57.196816Z",
     "iopub.status.busy": "2022-08-27T21:27:57.193502Z",
     "iopub.status.idle": "2022-08-27T21:28:02.164166Z",
     "shell.execute_reply": "2022-08-27T21:28:02.163179Z",
     "shell.execute_reply.started": "2022-08-27T21:27:57.196756Z"
    },
    "id": "-CuD3B0qahtN"
   },
   "outputs": [],
   "source": [
    "from keras.preprocessing import image\n",
    "img = image.load_img(\"../input/glasses/glasses-noglasses/test/row-1-column-9.jpg\",target_size=(224,224))\n",
    "img = np.asarray(img)\n",
    "plt.imshow(img)\n",
    "img = np.expand_dims(img, axis=0)\n",
    "from keras.models import load_model\n",
    "saved_model = load_model(\"vgg16_1.h5\")\n",
    "output = saved_model.predict(img)\n",
    "if output[0][0] > output[0][1]:\n",
    "    print(\"glasses\")\n",
    "else:\n",
    "    print('no-glasses')"
   ]
  }
 ],
 "metadata": {
  "colab": {
   "provenance": []
  },
  "kernelspec": {
   "display_name": "Python 3 (ipykernel)",
   "language": "python",
   "name": "python3"
  },
  "language_info": {
   "codemirror_mode": {
    "name": "ipython",
    "version": 3
   },
   "file_extension": ".py",
   "mimetype": "text/x-python",
   "name": "python",
   "nbconvert_exporter": "python",
   "pygments_lexer": "ipython3",
   "version": "3.9.12"
  }
 },
 "nbformat": 4,
 "nbformat_minor": 1
}
